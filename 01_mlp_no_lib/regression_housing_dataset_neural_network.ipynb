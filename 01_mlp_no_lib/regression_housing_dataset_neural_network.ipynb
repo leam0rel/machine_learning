{
 "cells": [
  {
   "cell_type": "code",
   "execution_count": 1,
   "id": "fa34856e",
   "metadata": {},
   "outputs": [],
   "source": [
    "import pandas as pd\n",
    "import numpy as np\n",
    "from sklearn.datasets import fetch_california_housing\n",
    "from tsensor import explain as exp"
   ]
  },
  {
   "cell_type": "markdown",
   "id": "950fa1d9",
   "metadata": {},
   "source": [
    "## Load California Housing Dataset"
   ]
  },
  {
   "cell_type": "code",
   "execution_count": 2,
   "id": "116a3380",
   "metadata": {},
   "outputs": [
    {
     "name": "stdout",
     "output_type": "stream",
     "text": [
      "<class 'sklearn.utils._bunch.Bunch'>\n",
      "{'data': array([[   8.3252    ,   41.        ,    6.98412698, ...,    2.55555556,\n",
      "          37.88      , -122.23      ],\n",
      "       [   8.3014    ,   21.        ,    6.23813708, ...,    2.10984183,\n",
      "          37.86      , -122.22      ],\n",
      "       [   7.2574    ,   52.        ,    8.28813559, ...,    2.80225989,\n",
      "          37.85      , -122.24      ],\n",
      "       ...,\n",
      "       [   1.7       ,   17.        ,    5.20554273, ...,    2.3256351 ,\n",
      "          39.43      , -121.22      ],\n",
      "       [   1.8672    ,   18.        ,    5.32951289, ...,    2.12320917,\n",
      "          39.43      , -121.32      ],\n",
      "       [   2.3886    ,   16.        ,    5.25471698, ...,    2.61698113,\n",
      "          39.37      , -121.24      ]], shape=(20640, 8)), 'target': array([4.526, 3.585, 3.521, ..., 0.923, 0.847, 0.894], shape=(20640,)), 'frame': None, 'target_names': ['MedHouseVal'], 'feature_names': ['MedInc', 'HouseAge', 'AveRooms', 'AveBedrms', 'Population', 'AveOccup', 'Latitude', 'Longitude'], 'DESCR': '.. _california_housing_dataset:\\n\\nCalifornia Housing dataset\\n--------------------------\\n\\n**Data Set Characteristics:**\\n\\n:Number of Instances: 20640\\n\\n:Number of Attributes: 8 numeric, predictive attributes and the target\\n\\n:Attribute Information:\\n    - MedInc        median income in block group\\n    - HouseAge      median house age in block group\\n    - AveRooms      average number of rooms per household\\n    - AveBedrms     average number of bedrooms per household\\n    - Population    block group population\\n    - AveOccup      average number of household members\\n    - Latitude      block group latitude\\n    - Longitude     block group longitude\\n\\n:Missing Attribute Values: None\\n\\nThis dataset was obtained from the StatLib repository.\\nhttps://www.dcc.fc.up.pt/~ltorgo/Regression/cal_housing.html\\n\\nThe target variable is the median house value for California districts,\\nexpressed in hundreds of thousands of dollars ($100,000).\\n\\nThis dataset was derived from the 1990 U.S. census, using one row per census\\nblock group. A block group is the smallest geographical unit for which the U.S.\\nCensus Bureau publishes sample data (a block group typically has a population\\nof 600 to 3,000 people).\\n\\nA household is a group of people residing within a home. Since the average\\nnumber of rooms and bedrooms in this dataset are provided per household, these\\ncolumns may take surprisingly large values for block groups with few households\\nand many empty houses, such as vacation resorts.\\n\\nIt can be downloaded/loaded using the\\n:func:`sklearn.datasets.fetch_california_housing` function.\\n\\n.. rubric:: References\\n\\n- Pace, R. Kelley and Ronald Barry, Sparse Spatial Autoregressions,\\n  Statistics and Probability Letters, 33 (1997) 291-297\\n'}\n"
     ]
    }
   ],
   "source": [
    "data_bunch = fetch_california_housing()\n",
    "print(type(data_bunch))\n",
    "print(data_bunch)"
   ]
  },
  {
   "cell_type": "code",
   "execution_count": 3,
   "id": "d0ae397a",
   "metadata": {},
   "outputs": [
    {
     "name": "stdout",
     "output_type": "stream",
     "text": [
      "data\n",
      "target\n",
      "frame\n",
      "target_names\n",
      "feature_names\n",
      "DESCR\n"
     ]
    }
   ],
   "source": [
    "for key in data_bunch:\n",
    "    print(key)"
   ]
  },
  {
   "cell_type": "code",
   "execution_count": 4,
   "id": "fd15ca90",
   "metadata": {},
   "outputs": [
    {
     "name": "stdout",
     "output_type": "stream",
     "text": [
      "<class 'numpy.ndarray'>\n",
      "[[   8.3252       41.            6.98412698 ...    2.55555556\n",
      "    37.88       -122.23      ]\n",
      " [   8.3014       21.            6.23813708 ...    2.10984183\n",
      "    37.86       -122.22      ]\n",
      " [   7.2574       52.            8.28813559 ...    2.80225989\n",
      "    37.85       -122.24      ]\n",
      " ...\n",
      " [   1.7          17.            5.20554273 ...    2.3256351\n",
      "    39.43       -121.22      ]\n",
      " [   1.8672       18.            5.32951289 ...    2.12320917\n",
      "    39.43       -121.32      ]\n",
      " [   2.3886       16.            5.25471698 ...    2.61698113\n",
      "    39.37       -121.24      ]]\n"
     ]
    }
   ],
   "source": [
    "X = data_bunch[\"data\"]\n",
    "print(type(X))\n",
    "print(X)"
   ]
  },
  {
   "cell_type": "code",
   "execution_count": 5,
   "id": "9a9e2e00",
   "metadata": {},
   "outputs": [
    {
     "name": "stdout",
     "output_type": "stream",
     "text": [
      "<class 'numpy.ndarray'>\n",
      "[4.526 3.585 3.521 ... 0.923 0.847 0.894]\n"
     ]
    }
   ],
   "source": [
    "y = data_bunch[\"target\"]\n",
    "print(type(y))\n",
    "print(y)"
   ]
  },
  {
   "cell_type": "code",
   "execution_count": 6,
   "id": "c138493a",
   "metadata": {},
   "outputs": [
    {
     "name": "stdout",
     "output_type": "stream",
     "text": [
      "(20640, 8)\n"
     ]
    }
   ],
   "source": [
    "print(X.shape)"
   ]
  },
  {
   "cell_type": "code",
   "execution_count": 7,
   "id": "3c415a93",
   "metadata": {},
   "outputs": [
    {
     "data": {
      "text/plain": [
       "array([   8.3252    ,   41.        ,    6.98412698,    1.02380952,\n",
       "        322.        ,    2.55555556,   37.88      , -122.23      ])"
      ]
     },
     "execution_count": 7,
     "metadata": {},
     "output_type": "execute_result"
    }
   ],
   "source": [
    "X[0]"
   ]
  },
  {
   "cell_type": "code",
   "execution_count": 8,
   "id": "e289cb51",
   "metadata": {},
   "outputs": [
    {
     "data": {
      "text/plain": [
       "np.float64(4.526)"
      ]
     },
     "execution_count": 8,
     "metadata": {},
     "output_type": "execute_result"
    }
   ],
   "source": [
    "y[0]"
   ]
  },
  {
   "cell_type": "markdown",
   "id": "44113ebe",
   "metadata": {},
   "source": [
    "## Transform the dataset"
   ]
  },
  {
   "cell_type": "code",
   "execution_count": null,
   "id": "87b7f429",
   "metadata": {},
   "outputs": [
    {
     "name": "stdout",
     "output_type": "stream",
     "text": [
      "(8, 3000)\n",
      "(3000,)\n"
     ]
    }
   ],
   "source": [
    "# We have to separate X into X train and X test for training and validatio purposes\n",
    "# We take the transpose for X, as we want the features to be the lines to be able to do matrices product\n",
    "X_test = X[:3000].T\n",
    "y_test = y[:3000].T \n",
    "\n",
    "print(X_test.shape)\n",
    "print(y_test.shape)"
   ]
  },
  {
   "cell_type": "code",
   "execution_count": 10,
   "id": "728da338",
   "metadata": {},
   "outputs": [
    {
     "name": "stdout",
     "output_type": "stream",
     "text": [
      "8 17640\n",
      "(8, 17640)\n",
      "(17640,)\n"
     ]
    }
   ],
   "source": [
    "X_train = X[3000:].T\n",
    "y_train = y[3000:].T\n",
    "n, m = X_train.shape\n",
    "print(n, m)\n",
    "print(X_train.shape)\n",
    "print(y_train.shape)"
   ]
  },
  {
   "attachments": {
    "image.png": {
     "image/png": "[encoded data removed]"
    }
   },
   "cell_type": "markdown",
   "id": "3981c6c9",
   "metadata": {},
   "source": [
    "For this exercice, we will use a Neural Network with 1 hidden layer, and 6 neurons in this hidden layer. It should look like :\n",
    " \n",
    "![image.png](attachment:image.png)"
   ]
  },
  {
   "cell_type": "markdown",
   "id": "30c2fac4",
   "metadata": {},
   "source": [
    "## Definition of the functions we will use"
   ]
  },
  {
   "cell_type": "code",
   "execution_count": 11,
   "id": "6a3f530b",
   "metadata": {},
   "outputs": [],
   "source": [
    "# Definition of activation functions - Rectified Linear Unit\n",
    "def ReLU(x):\n",
    "    return np.maximum(0, x)\n",
    "\n",
    "def ReLU_prime(x):\n",
    "    return x > 0"
   ]
  },
  {
   "cell_type": "code",
   "execution_count": 61,
   "id": "1a03dc51",
   "metadata": {},
   "outputs": [],
   "source": [
    "def init_weights():\n",
    "    W1 = np.random.randn(6, 8) # Needs to be of dimension (6 x 8)\n",
    "    b1 = np.random.randn(6, 1) # Needs to be of dimension (6 x 1)\n",
    "    W2 = np.random.randn(1, 6) # Needs to be of dimension (1 x 6)\n",
    "    b2 = np.random.randn(1, 1) # Needs to be of dimension (1 x 1)\n",
    "    return W1, b1, W2, b2"
   ]
  },
  {
   "cell_type": "code",
   "execution_count": 64,
   "id": "845cc1bc",
   "metadata": {},
   "outputs": [],
   "source": [
    "def gradient_descent(X, y, W1, b1, W2, b2, lr=0.1):\n",
    "    # Forward pass\n",
    "    Z1 = W1.dot(X) + b1 # hidden_layer\n",
    "    #print(f\"Shape Z1 : {Z1.shape}\") # hidden_layer.shape\n",
    "    A1 = ReLU(Z1) # hidden_layer_activated\n",
    "    #print(f\"Shape A1 : {A1.shape}\") # hidden_layer_activated.shape\n",
    "    Z2 = W2.dot(A1) + b2 # output_layer\n",
    "    #print(f\"Shape Z2 : {Z2.shape}\") # output_layer.shape\n",
    "    A2 = Z2 # output_layer_activated, no need for an activation function for regression models usually\n",
    "    #print(f\"Shape A2 : {A2.shape}\")\n",
    "    y_hat = A2 # for simplification and display purposes\n",
    "    \n",
    "    # Backward propagation\n",
    "    error = y_hat - y\n",
    "    #print(error) # It works til here. Now, the hard pass !\n",
    "    # Reminder here : y_hat = A2 = Z2 = W2.A1 + b2. The goal is to understand how off we are from good predictions, by knowing how bad are W2 and b2.\n",
    "    # To do this, we calculate dLoss/dW2 = dLoss/dZ2 . dZ2.dW2\n",
    "    # Reminder : Loss = MSE = 1/m*sum(y_hat - y)**2 \n",
    "    # No activation function : A2 = Z2, and A2 = y_hat, so Z2 = y_hat\n",
    "    # So, dLoss/dZ2 = dLoss/dy_hat = (1/m). 2.(y_hat - y)\n",
    "    dZ2 = 2/m*(y_hat - y)\n",
    "    #print(f\"Shape dZ2 : {dZ2.shape}\")\n",
    "    # We can now calculate dLoss/dW2, that we'll call dW2 : \n",
    "    # Remembering that Z2 = W1.A1 + b2,   \n",
    "    dW2 = dZ2.dot(A1.T) \n",
    "    #print(f\"Shape dW2 : {dW2.shape}\")\n",
    "    # For b2, it's the same. As Z2 = W2.A1 + b2, dZ2/db2 = 1. So dLoss/db2 = dLoss/dZ2 . dZ2.db2 = (1/m). 2.(y_hat - y) = dZ2\n",
    "    db2 = np.sum(dZ2, axis=1, keepdims=True) \n",
    "    #print(f\"Shape db2 : {db2.shape}\")\n",
    "    # So now, we just are going layer through layer, in the opposite direction.\n",
    "    dA1 = W2.T.dot(dZ2)\n",
    "    #print(f\"Shape dA1 : {dA1.shape}\")\n",
    "    dZ1 = dA1*ReLU_prime(Z1)\n",
    "    #print(f\"Shape dZ1 : {dZ1.shape}\")\n",
    "    dW1 = dZ1.dot(X.T)\n",
    "    #print(f\"Shape dW1 : {dW1.shape}\")\n",
    "    db1 = np.sum(dZ1, axis=1, keepdims=True)\n",
    "    #print(f\"Shape db1 : {db1.shape}\")\n",
    "    \n",
    "    \n",
    "    # Update the weights \n",
    "    W1 -= dW1*lr\n",
    "    b1 -= db1*lr\n",
    "    W2 -= dW2*lr\n",
    "    b2 -= db2*lr\n",
    "    \n",
    "    #loss = np.mean((y_hat - y)**2)\n",
    "    loss = np.mean(np.abs(y_hat - y))\n",
    "    return loss"
   ]
  },
  {
   "cell_type": "code",
   "execution_count": 18,
   "id": "bbb90911",
   "metadata": {},
   "outputs": [
    {
     "name": "stdout",
     "output_type": "stream",
     "text": [
      "(6, 8)\n",
      "(6, 1)\n",
      "(1, 6)\n",
      "(1, 1)\n"
     ]
    }
   ],
   "source": [
    "W1, b1, W2, b2 = init_weights()\n",
    "print(W1.shape)\n",
    "print(b1.shape)\n",
    "print(W2.shape)\n",
    "print(b2.shape)"
   ]
  },
  {
   "cell_type": "code",
   "execution_count": null,
   "id": "bfdf48a8",
   "metadata": {},
   "outputs": [
    {
     "name": "stdout",
     "output_type": "stream",
     "text": [
      "Shape Z1 : (6, 17640)\n",
      "Shape A1 : (6, 17640)\n",
      "Shape Z2 : (1, 17640)\n",
      "Shape A2 : (1, 17640)\n",
      "[[ 175.16268458 2204.68067665 1303.99409046 ...  485.95338857\n",
      "   359.28304057  666.84248156]]\n",
      "Shape dZ2 : (1, 17640)\n",
      "Shape dW2 : (1, 6)\n",
      "Shape db2 : (1, 1)\n",
      "Shape dA1 : (6, 17640)\n",
      "Shape dZ1 : (6, 17640)\n",
      "Shape dW1 : (6, 8)\n",
      "Shape db1 : (6, 1)\n"
     ]
    }
   ],
   "source": [
    "# Won't work anymore as I am returning things now\n",
    "gradient_descent(X_train, y_train, W1, b1, W2, b2)\n"
   ]
  },
  {
   "cell_type": "code",
   "execution_count": 65,
   "id": "ca59b8f2",
   "metadata": {},
   "outputs": [
    {
     "name": "stdout",
     "output_type": "stream",
     "text": [
      "Epoch 0: Train Loss: 691.48, Test Loss: 72430138792267.39\n",
      "Epoch 10: Train Loss: 2888819139355.31, Test Loss: 2311055311483.65\n",
      "Epoch 20: Train Loss: 310184593189.75, Test Loss: 248147674551.20\n",
      "Epoch 30: Train Loss: 33305817086.83, Test Loss: 26644653668.86\n",
      "Epoch 40: Train Loss: 3576184878.86, Test Loss: 2860947902.49\n",
      "Epoch 50: Train Loss: 383989927.48, Test Loss: 307191941.38\n",
      "Epoch 60: Train Loss: 41230604.51, Test Loss: 32984483.01\n",
      "Epoch 70: Train Loss: 4427102.45, Test Loss: 3541681.36\n",
      "Epoch 80: Train Loss: 475356.51, Test Loss: 380284.61\n",
      "Epoch 90: Train Loss: 51041.02, Test Loss: 40832.21\n",
      "Epoch 100: Train Loss: 5480.49, Test Loss: 4383.79\n",
      "Epoch 110: Train Loss: 588.46, Test Loss: 470.17\n",
      "Epoch 120: Train Loss: 63.19, Test Loss: 49.95\n",
      "Epoch 130: Train Loss: 6.78, Test Loss: 4.83\n",
      "Epoch 140: Train Loss: 0.98, Test Loss: 0.76\n"
     ]
    }
   ],
   "source": [
    "def train_mlp(X_train, y_train, X_test, y_test, n_epochs):\n",
    "    # Initialize the weights\n",
    "    W1, b1, W2, b2 = init_weights()\n",
    "    # print(W1.shape)\n",
    "    # print(b1.shape)\n",
    "    # print(W2.shape)\n",
    "    # print(b2.shape)\n",
    "    \n",
    "    # To calculate the losses - plot \n",
    "    train_history = []\n",
    "    test_history = []\n",
    "    \n",
    "    for epoch in range(n_epochs): \n",
    "        loss_train = gradient_descent(X_train, y_train, W1, b1, W2, b2)\n",
    "        train_history.append(loss_train)\n",
    "        \n",
    "        # Make predictions\n",
    "        Z1_test = W1.dot(X_test) + b1\n",
    "        A1_test = ReLU(Z1_test)\n",
    "        Z2_test = W2.dot(A1_test) + b2\n",
    "        y_hat_test = Z2_test\n",
    "        #loss_test = np.mean((y_hat_test - y_test)**2)\n",
    "        loss_test = np.mean(np.abs(y_hat_test - y_test))\n",
    "        test_history.append(loss_test)\n",
    "        \n",
    "        if epoch % 10 == 0:\n",
    "            print(f\"Epoch {epoch}: Train Loss: {loss_train:.2f}, Test Loss: {loss_test:.2f}\")\n",
    "            \n",
    "        # Plot histories here, calculate number of epochs !\n",
    "            \n",
    "    return W1, b1, W2, b2, train_history, test_history\n",
    "        \n",
    "\n",
    "W1, b1, W2, b2, train_history, test_history = train_mlp(X_train, y_train, X_test, y_test, 150)"
   ]
  },
  {
   "cell_type": "code",
   "execution_count": 66,
   "id": "37821494",
   "metadata": {},
   "outputs": [],
   "source": [
    "## I'll try to see if the predictions are actually correct or not tomorrow"
   ]
  },
  {
   "cell_type": "markdown",
   "id": "fc88f3cf",
   "metadata": {},
   "source": [
    "Improvements : \n",
    "- Standardize the data !!\n",
    "- Implement L2 regulairization (...)\n",
    "- Change the architecture of the MLP\n",
    "\n",
    "Note :  in this present version I'm using the MAE. I just wanted to see the impact of the choice of error on the results. It doesn't make much sense as the loss function is still the MSE. But we can always change it back (if I am not making any mistakes. It's late...)"
   ]
  }
 ],
 "metadata": {
  "kernelspec": {
   "display_name": ".env",
   "language": "python",
   "name": "python3"
  },
  "language_info": {
   "codemirror_mode": {
    "name": "ipython",
    "version": 3
   },
   "file_extension": ".py",
   "mimetype": "text/x-python",
   "name": "python",
   "nbconvert_exporter": "python",
   "pygments_lexer": "ipython3",
   "version": "3.12.2"
  }
 },
 "nbformat": 4,
 "nbformat_minor": 5
}
