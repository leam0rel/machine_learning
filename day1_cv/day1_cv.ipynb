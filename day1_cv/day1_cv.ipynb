{
 "cells": [
  {
   "cell_type": "code",
   "execution_count": 87,
   "id": "003fda18",
   "metadata": {},
   "outputs": [],
   "source": [
    "import cv2\n",
    "import os\n",
    "import numpy as np"
   ]
  },
  {
   "cell_type": "markdown",
   "id": "c6ba71bc",
   "metadata": {},
   "source": [
    "## Basic input/output"
   ]
  },
  {
   "cell_type": "code",
   "execution_count": 3,
   "id": "eff0cb03",
   "metadata": {},
   "outputs": [],
   "source": [
    "# Read an image\n",
    "image_path_read = os.path.join('.', \"spongebob.jpg\")\n",
    "img = cv2.imread(image_path_read)"
   ]
  },
  {
   "cell_type": "code",
   "execution_count": 4,
   "id": "551bcb94",
   "metadata": {},
   "outputs": [
    {
     "data": {
      "text/plain": [
       "True"
      ]
     },
     "execution_count": 4,
     "metadata": {},
     "output_type": "execute_result"
    }
   ],
   "source": [
    "# Write an image\n",
    "image_path_write = os.path.join('.', \"spongebob_out.jpg\")\n",
    "cv2.imwrite(image_path_write, img)"
   ]
  },
  {
   "cell_type": "code",
   "execution_count": null,
   "id": "508c1cf6",
   "metadata": {},
   "outputs": [],
   "source": [
    "# Visualize an image \n",
    "cv2.imshow('image', img)\n",
    "cv2.waitKey(5000) # Open a window, and keep it open until we press a key\n",
    "cv2.destroyAllWindows()"
   ]
  },
  {
   "cell_type": "code",
   "execution_count": 6,
   "id": "6ae2712e",
   "metadata": {},
   "outputs": [],
   "source": [
    "# Read a video\n",
    "video_path = os.path.join('.', \"this_is_patrick.mp4\")\n",
    "vid = cv2.VideoCapture(video_path)"
   ]
  },
  {
   "cell_type": "code",
   "execution_count": 7,
   "id": "dc8d5225",
   "metadata": {},
   "outputs": [],
   "source": [
    "# Visualize a video\n",
    "ret = True\n",
    "while ret:\n",
    "    ret, frame = vid.read() # ret is True each time we successfully read a new frame\n",
    "    if ret:\n",
    "        cv2.imshow(\"frame\", frame)\n",
    "        cv2.waitKey(15) # If 25 frames/second, it means 1 frame every 0.04 second\n",
    "vid.release()\n",
    "cv2.destroyAllWindows()    "
   ]
  },
  {
   "cell_type": "code",
   "execution_count": 9,
   "id": "73655757",
   "metadata": {},
   "outputs": [],
   "source": [
    "# Visualize webcam / works well\n",
    "webcam = cv2.VideoCapture(0)\n",
    "while True:\n",
    "    ret, frame = webcam.read()\n",
    "    cv2.imshow(\"frame\", frame)\n",
    "    if cv2.waitKey(30) & 0xFF == ord('q'):\n",
    "        break\n",
    "\n",
    "webcam.release()\n",
    "cv2.destroyAllWindows()  "
   ]
  },
  {
   "cell_type": "markdown",
   "id": "4904be04",
   "metadata": {},
   "source": [
    "## Resizing an image"
   ]
  },
  {
   "cell_type": "code",
   "execution_count": null,
   "id": "f45d62be",
   "metadata": {},
   "outputs": [
    {
     "name": "stdout",
     "output_type": "stream",
     "text": [
      "(720, 1280, 3)\n"
     ]
    }
   ],
   "source": [
    "# Resizing an image\n",
    "spongebob = cv2.imread(os.path.join('.', \"spongebob.jpg\"))\n",
    "print(spongebob.shape)\n",
    "cv2.imshow('spongebob', spongebob)\n",
    "cv2.waitKey(0) \n",
    "cv2.destroyAllWindows()"
   ]
  },
  {
   "cell_type": "code",
   "execution_count": null,
   "id": "85ed8c9d",
   "metadata": {},
   "outputs": [
    {
     "name": "stdout",
     "output_type": "stream",
     "text": [
      "(360, 640, 3)\n"
     ]
    }
   ],
   "source": [
    "resize_spongebob = cv2.resize(spongebob, (640, 360)) # To resier, you have to reverse the dimension, for a weird reason (width, height), but the shape is (height, width)\n",
    "print(resize_spongebob.shape)\n",
    "cv2.imshow('resize_spongebob', resize_spongebob)\n",
    "cv2.waitKey(0) \n",
    "cv2.destroyAllWindows()"
   ]
  },
  {
   "cell_type": "markdown",
   "id": "9f200097",
   "metadata": {},
   "source": [
    "# Cropping an image"
   ]
  },
  {
   "cell_type": "code",
   "execution_count": 31,
   "id": "a42c31d0",
   "metadata": {},
   "outputs": [
    {
     "name": "stdout",
     "output_type": "stream",
     "text": [
      "(366, 550, 3)\n"
     ]
    }
   ],
   "source": [
    "# Cropping an image\n",
    "spongebob = cv2.imread(os.path.join('.', \"spongebob_3.jpg\"))\n",
    "spongebob = cv2.resize(spongebob, (550, 366)) \n",
    "print(spongebob.shape)\n",
    "cv2.imshow('spongebob', spongebob)\n",
    "cv2.waitKey(0) \n",
    "cv2.destroyAllWindows()"
   ]
  },
  {
   "cell_type": "code",
   "execution_count": 36,
   "id": "33672aa6",
   "metadata": {},
   "outputs": [
    {
     "name": "stdout",
     "output_type": "stream",
     "text": [
      "(271, 250, 3)\n"
     ]
    }
   ],
   "source": [
    "cropped_spongebob = spongebob[95:366, 100:350]\n",
    "print(cropped_spongebob.shape)\n",
    "cv2.imshow('cropped_spongebob', cropped_spongebob)\n",
    "cv2.waitKey(0) \n",
    "cv2.destroyAllWindows()"
   ]
  },
  {
   "cell_type": "markdown",
   "id": "62df0cc4",
   "metadata": {},
   "source": [
    "## Colorspaces"
   ]
  },
  {
   "cell_type": "code",
   "execution_count": 43,
   "id": "f3645111",
   "metadata": {},
   "outputs": [],
   "source": [
    "# Colorspaces\n",
    "spongebob = cv2.imread(os.path.join('.', \"spongebob.jpg\"))\n",
    "spongebob = cv2.resize(spongebob, (640, 360)) \n",
    "spongebob_rgb = cv2.cvtColor(spongebob, cv2.COLOR_BGR2RGB)\n",
    "spongebob_gray = cv2.cvtColor(spongebob, cv2.COLOR_BGR2GRAY)\n",
    "spongebob_hsv = cv2.cvtColor(spongebob, cv2.COLOR_BGR2HSV)\n",
    "\n",
    "cv2.imshow('spongebob', spongebob)\n",
    "#cv2.imshow('spongebob_rgb', spongebob_rgb)\n",
    "#cv2.imshow('spongebob_gray', spongebob_gray)\n",
    "cv2.imshow('spongebob_hsv', spongebob_hsv)\n",
    "cv2.waitKey(0) \n",
    "cv2.destroyAllWindows()"
   ]
  },
  {
   "cell_type": "markdown",
   "id": "de77cd8c",
   "metadata": {},
   "source": [
    "## Blurring"
   ]
  },
  {
   "cell_type": "code",
   "execution_count": null,
   "id": "af957777",
   "metadata": {},
   "outputs": [],
   "source": [
    "# Blurring = replacing a pixel by the average of the pixels around\n",
    "spongebob = cv2.imread(os.path.join('.', \"spongebob.jpg\"))\n",
    "spongebob = cv2.resize(spongebob, (640, 360)) \n",
    "k_size = 13 # The bigger the number, the stronger the blur (the bigger the region we'll be taling to compute the AVG)\n",
    "spongebob_blurred_1 = cv2.blur(spongebob, (k_size, k_size)) # Classic blur. The blur depends on the size of the neighborhood you want around\n",
    "spongebob_blurred_2 = cv2.GaussianBlur(spongebob, (k_size, k_size), 2)\n",
    "spongebob_blurred_3 = cv2.medianBlur(spongebob, k_size)\n",
    "\n",
    "cv2.imshow('spongebob', spongebob)\n",
    "cv2.imshow('spongebob_blurred_1', spongebob_blurred_1)\n",
    "cv2.imshow('spongebob_blurred_2', spongebob_blurred_2)\n",
    "cv2.imshow('spongebob_blurred_3', spongebob_blurred_3)\n",
    "\n",
    "cv2.waitKey(0) \n",
    "cv2.destroyAllWindows()"
   ]
  },
  {
   "cell_type": "code",
   "execution_count": null,
   "id": "3dc10b4b",
   "metadata": {},
   "outputs": [],
   "source": [
    "# Applying a blur to remove the noise of an image\n",
    "spongebob = cv2.imread(os.path.join('.', \"spongebob_4.jpg\")) \n",
    "k_size = 5 \n",
    "spongebob_blurred_1 = cv2.blur(spongebob, (k_size, k_size)) \n",
    "spongebob_blurred_2 = cv2.GaussianBlur(spongebob, (k_size, k_size), 2)\n",
    "spongebob_blurred_3 = cv2.medianBlur(spongebob, k_size)\n",
    "\n",
    "cv2.imshow('spongebob', spongebob)\n",
    "cv2.imshow('1_spongebob_blurred_1', spongebob_blurred_1)\n",
    "cv2.imshow('2_spongebob_blurred_2', spongebob_blurred_2)\n",
    "cv2.imshow('3_spongebob_blurred_3', spongebob_blurred_3)\n",
    "cv2.waitKey(0) \n",
    "cv2.destroyAllWindows()\n",
    "\n",
    "# MedianBlur can work well in that situation"
   ]
  },
  {
   "cell_type": "markdown",
   "id": "2d88aa05",
   "metadata": {},
   "source": [
    "## Threshold"
   ]
  },
  {
   "cell_type": "code",
   "execution_count": null,
   "id": "aae33564",
   "metadata": {},
   "outputs": [],
   "source": [
    "# Thresholding = convert an image into a binary image\n",
    "# Global threshold\n",
    "spongebob = cv2.imread(os.path.join('.', \"spongebob_3.jpg\"))\n",
    "spongebob_gray = cv2.cvtColor(spongebob, cv2.COLOR_BGR2GRAY) # Convert the image into grayscale\n",
    "ret, thresh = cv2.threshold(spongebob_gray, 100, 255, cv2.THRESH_BINARY) # 80 : global threshold, all value under 80 => 0, all values above 80 => 255\n",
    "cv2.imshow('spongebob', spongebob)\n",
    "cv2.imshow('spongebob_gray', spongebob_gray)\n",
    "cv2.imshow('thresh', thresh)\n",
    "cv2.waitKey(0) \n",
    "cv2.destroyAllWindows()\n",
    "\n",
    "# The goal of threshold is to segment an image into different regions. It can be used for image detection"
   ]
  },
  {
   "cell_type": "code",
   "execution_count": 82,
   "id": "0b36d901",
   "metadata": {},
   "outputs": [],
   "source": [
    "# Adaptive threshold : we'll have many threshold for one image, like a sliding window\n",
    "spongebob = cv2.imread(os.path.join('.', \"spongebob_3.jpg\"))\n",
    "spongebob_gray = cv2.cvtColor(spongebob, cv2.COLOR_BGR2GRAY) \n",
    "\n",
    "thresh = cv2.adaptiveThreshold(spongebob_gray, 255, cv2.ADAPTIVE_THRESH_GAUSSIAN_C, cv2.THRESH_BINARY, 11, 15) # Either Gaussin or mean.  \n",
    "cv2.imshow('spongebob', spongebob)\n",
    "cv2.imshow('spongebob_gray', spongebob_gray)\n",
    "cv2.imshow('thresh', thresh)\n",
    "cv2.waitKey(0) \n",
    "cv2.destroyAllWindows()\n"
   ]
  },
  {
   "cell_type": "markdown",
   "id": "9ad97b43",
   "metadata": {},
   "source": [
    "## Edge detection"
   ]
  },
  {
   "cell_type": "code",
   "execution_count": 94,
   "id": "c55e7873",
   "metadata": {},
   "outputs": [],
   "source": [
    "# Detection with canny edge detector\n",
    "spongebob = cv2.imread(os.path.join('.', \"spongebob.jpg\"))\n",
    "spongebob = cv2.resize(spongebob, (640, 360)) \n",
    "spongebob_edge = cv2.Canny(spongebob, 100, 200) # Trial and error to set the numbers. Read the docs !\n",
    "spongebob_dilate = cv2.dilate(spongebob_edge, np.ones((3, 3), dtype=np.int8))\n",
    "spongebob_erode = cv2.erode(spongebob_dilate, np.ones((3, 3), dtype=np.int8))\n",
    "#cv2.imshow('spongebob', spongebob)\n",
    "cv2.imshow('spongebob_edge', spongebob_edge)\n",
    "cv2.imshow('spongebob_dilate', spongebob_dilate)\n",
    "cv2.imshow('spongebob_erode', spongebob_erode)\n",
    "cv2.waitKey(0) \n",
    "cv2.destroyAllWindows()"
   ]
  }
 ],
 "metadata": {
  "kernelspec": {
   "display_name": ".env",
   "language": "python",
   "name": "python3"
  },
  "language_info": {
   "codemirror_mode": {
    "name": "ipython",
    "version": 3
   },
   "file_extension": ".py",
   "mimetype": "text/x-python",
   "name": "python",
   "nbconvert_exporter": "python",
   "pygments_lexer": "ipython3",
   "version": "3.12.2"
  }
 },
 "nbformat": 4,
 "nbformat_minor": 5
}
