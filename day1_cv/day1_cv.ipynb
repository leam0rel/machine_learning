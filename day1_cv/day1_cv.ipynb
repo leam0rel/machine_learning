{
 "cells": [
  {
   "cell_type": "code",
   "execution_count": 2,
   "id": "003fda18",
   "metadata": {},
   "outputs": [],
   "source": [
    "import cv2\n",
    "import os"
   ]
  },
  {
   "cell_type": "code",
   "execution_count": 3,
   "id": "eff0cb03",
   "metadata": {},
   "outputs": [],
   "source": [
    "# Read an image\n",
    "image_path_read = os.path.join('.', \"spongebob.jpg\")\n",
    "img = cv2.imread(image_path_read)"
   ]
  },
  {
   "cell_type": "code",
   "execution_count": 4,
   "id": "551bcb94",
   "metadata": {},
   "outputs": [
    {
     "data": {
      "text/plain": [
       "True"
      ]
     },
     "execution_count": 4,
     "metadata": {},
     "output_type": "execute_result"
    }
   ],
   "source": [
    "# Write an image\n",
    "image_path_write = os.path.join('.', \"spongebob_out.jpg\")\n",
    "cv2.imwrite(image_path_write, img)"
   ]
  },
  {
   "cell_type": "code",
   "execution_count": 5,
   "id": "508c1cf6",
   "metadata": {},
   "outputs": [
    {
     "data": {
      "text/plain": [
       "-1"
      ]
     },
     "execution_count": 5,
     "metadata": {},
     "output_type": "execute_result"
    }
   ],
   "source": [
    "# Visualize an image\n",
    "cv2.imshow('image', img)\n",
    "cv2.waitKey(0) # Open a window, and keep it open until we press a key"
   ]
  },
  {
   "cell_type": "code",
   "execution_count": 6,
   "id": "6ae2712e",
   "metadata": {},
   "outputs": [],
   "source": [
    "# Read a video\n",
    "video_path = os.path.join('.', \"this_is_patrick.mp4\")\n",
    "vid = cv2.VideoCapture(video_path)"
   ]
  },
  {
   "cell_type": "code",
   "execution_count": null,
   "id": "dc8d5225",
   "metadata": {},
   "outputs": [],
   "source": [
    "# Visualize a video\n",
    "ret = True\n",
    "while ret:\n",
    "    ret, frame = vid.read() # ret is True each time we successfully read a new frame\n",
    "    "
   ]
  }
 ],
 "metadata": {
  "kernelspec": {
   "display_name": ".env",
   "language": "python",
   "name": "python3"
  },
  "language_info": {
   "codemirror_mode": {
    "name": "ipython",
    "version": 3
   },
   "file_extension": ".py",
   "mimetype": "text/x-python",
   "name": "python",
   "nbconvert_exporter": "python",
   "pygments_lexer": "ipython3",
   "version": "3.12.2"
  }
 },
 "nbformat": 4,
 "nbformat_minor": 5
}
