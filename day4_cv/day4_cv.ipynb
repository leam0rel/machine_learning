{
 "cells": [
  {
   "cell_type": "code",
   "execution_count": null,
   "id": "1fcf1648",
   "metadata": {},
   "outputs": [],
   "source": [
    "import cv2"
   ]
  }
 ],
 "metadata": {
  "language_info": {
   "name": "python"
  }
 },
 "nbformat": 4,
 "nbformat_minor": 5
}
