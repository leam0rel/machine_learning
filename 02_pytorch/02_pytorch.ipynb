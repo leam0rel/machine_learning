{
 "cells": [
  {
   "cell_type": "code",
   "execution_count": 18,
   "id": "f7f9f334",
   "metadata": {},
   "outputs": [],
   "source": [
    "import torch\n",
    "import numpy as np"
   ]
  },
  {
   "cell_type": "markdown",
   "id": "0bbfc503",
   "metadata": {},
   "source": [
    "# 01-Tensors"
   ]
  },
  {
   "cell_type": "code",
   "execution_count": null,
   "id": "4a190fa5",
   "metadata": {},
   "outputs": [],
   "source": [
    "x = torch.rand([2, 3])\n",
    "print(x)\n",
    "print(x.size())"
   ]
  },
  {
   "cell_type": "code",
   "execution_count": 3,
   "id": "41dd681a",
   "metadata": {},
   "outputs": [
    {
     "name": "stdout",
     "output_type": "stream",
     "text": [
      "tensor([[0.3773, 0.7637],\n",
      "        [0.4393, 0.5986]])\n",
      "tensor([[0.7164, 0.0081],\n",
      "        [0.5878, 0.5885]])\n"
     ]
    }
   ],
   "source": [
    "x = torch.rand(2, 2)\n",
    "y = torch.rand(2, 2)\n",
    "print(x)\n",
    "print(y)"
   ]
  },
  {
   "cell_type": "markdown",
   "id": "105a5fad",
   "metadata": {},
   "source": [
    "## Tensors - Operations"
   ]
  },
  {
   "cell_type": "code",
   "execution_count": 4,
   "id": "64ffffd7",
   "metadata": {},
   "outputs": [
    {
     "data": {
      "text/plain": [
       "tensor([[1.0937, 0.7718],\n",
       "        [1.0271, 1.1871]])"
      ]
     },
     "execution_count": 4,
     "metadata": {},
     "output_type": "execute_result"
    }
   ],
   "source": [
    "z = x + y\n",
    "z"
   ]
  },
  {
   "cell_type": "code",
   "execution_count": 6,
   "id": "742e07a8",
   "metadata": {},
   "outputs": [
    {
     "data": {
      "text/plain": [
       "tensor([[1.0937, 0.7718],\n",
       "        [1.0271, 1.1871]])"
      ]
     },
     "execution_count": 6,
     "metadata": {},
     "output_type": "execute_result"
    }
   ],
   "source": [
    "z = torch.add(x, y)\n",
    "z"
   ]
  },
  {
   "cell_type": "code",
   "execution_count": 7,
   "id": "71003320",
   "metadata": {},
   "outputs": [
    {
     "data": {
      "text/plain": [
       "tensor([[True, True],\n",
       "        [True, True]])"
      ]
     },
     "execution_count": 7,
     "metadata": {},
     "output_type": "execute_result"
    }
   ],
   "source": [
    "y.add_(x) # in place addition\n",
    "y == z"
   ]
  },
  {
   "cell_type": "code",
   "execution_count": 8,
   "id": "6d331d1e",
   "metadata": {},
   "outputs": [
    {
     "data": {
      "text/plain": [
       "tensor([[-0.7164, -0.0081],\n",
       "        [-0.5878, -0.5885]])"
      ]
     },
     "execution_count": 8,
     "metadata": {},
     "output_type": "execute_result"
    }
   ],
   "source": [
    "z = torch.sub(x, y)\n",
    "z"
   ]
  },
  {
   "cell_type": "code",
   "execution_count": 9,
   "id": "caa60042",
   "metadata": {},
   "outputs": [
    {
     "data": {
      "text/plain": [
       "tensor([[0.4126, 0.5894],\n",
       "        [0.4512, 0.7106]])"
      ]
     },
     "execution_count": 9,
     "metadata": {},
     "output_type": "execute_result"
    }
   ],
   "source": [
    "z = torch.mul(x, y)\n",
    "z"
   ]
  },
  {
   "cell_type": "markdown",
   "id": "69b78808",
   "metadata": {},
   "source": [
    "## Tensors - Slicing"
   ]
  },
  {
   "cell_type": "code",
   "execution_count": 10,
   "id": "65749c5c",
   "metadata": {},
   "outputs": [
    {
     "data": {
      "text/plain": [
       "tensor([[0.8132, 0.6795, 0.6702],\n",
       "        [0.5922, 0.7865, 0.8401],\n",
       "        [0.8315, 0.7938, 0.0453],\n",
       "        [0.5934, 0.9114, 0.6274],\n",
       "        [0.6779, 0.1583, 0.6205]])"
      ]
     },
     "execution_count": 10,
     "metadata": {},
     "output_type": "execute_result"
    }
   ],
   "source": [
    "x = torch.rand(5, 3)\n",
    "x"
   ]
  },
  {
   "cell_type": "code",
   "execution_count": 11,
   "id": "f3cc7dc2",
   "metadata": {},
   "outputs": [
    {
     "data": {
      "text/plain": [
       "tensor([0.8132, 0.5922, 0.8315, 0.5934, 0.6779])"
      ]
     },
     "execution_count": 11,
     "metadata": {},
     "output_type": "execute_result"
    }
   ],
   "source": [
    "x[:, 0] # Only col 0, with all the rows"
   ]
  },
  {
   "cell_type": "code",
   "execution_count": 12,
   "id": "99fdf632",
   "metadata": {},
   "outputs": [
    {
     "data": {
      "text/plain": [
       "tensor([0.5922, 0.7865, 0.8401])"
      ]
     },
     "execution_count": 12,
     "metadata": {},
     "output_type": "execute_result"
    }
   ],
   "source": [
    "x[1, :] # Only row 1, with all cols"
   ]
  },
  {
   "cell_type": "code",
   "execution_count": null,
   "id": "dc191065",
   "metadata": {},
   "outputs": [
    {
     "data": {
      "text/plain": [
       "tensor(0.7865)"
      ]
     },
     "execution_count": 14,
     "metadata": {},
     "output_type": "execute_result"
    }
   ],
   "source": [
    "x[1, 1].item() # Gives the actual value, not a tensor"
   ]
  },
  {
   "cell_type": "markdown",
   "id": "85b2afad",
   "metadata": {},
   "source": [
    "## Tensors - Reshaping"
   ]
  },
  {
   "cell_type": "code",
   "execution_count": 15,
   "id": "273ee980",
   "metadata": {},
   "outputs": [
    {
     "data": {
      "text/plain": [
       "tensor([[0.0369, 0.2352, 0.0439, 0.5040],\n",
       "        [0.7394, 0.0749, 0.0093, 0.1163],\n",
       "        [0.4623, 0.1997, 0.3245, 0.6642],\n",
       "        [0.4750, 0.4993, 0.6056, 0.2409]])"
      ]
     },
     "execution_count": 15,
     "metadata": {},
     "output_type": "execute_result"
    }
   ],
   "source": [
    "x = torch.rand(4, 4)\n",
    "x"
   ]
  },
  {
   "cell_type": "code",
   "execution_count": null,
   "id": "3cf4e5d0",
   "metadata": {},
   "outputs": [
    {
     "data": {
      "text/plain": [
       "tensor([0.0369, 0.2352, 0.0439, 0.5040, 0.7394, 0.0749, 0.0093, 0.1163, 0.4623,\n",
       "        0.1997, 0.3245, 0.6642, 0.4750, 0.4993, 0.6056, 0.2409])"
      ]
     },
     "execution_count": 16,
     "metadata": {},
     "output_type": "execute_result"
    }
   ],
   "source": [
    "y = x.view(16)\n",
    "y # Now it is a 1D vector"
   ]
  },
  {
   "cell_type": "code",
   "execution_count": 17,
   "id": "3dd08ba1",
   "metadata": {},
   "outputs": [
    {
     "data": {
      "text/plain": [
       "tensor([[0.0369, 0.2352, 0.0439, 0.5040, 0.7394, 0.0749, 0.0093, 0.1163],\n",
       "        [0.4623, 0.1997, 0.3245, 0.6642, 0.4750, 0.4993, 0.6056, 0.2409]])"
      ]
     },
     "execution_count": 17,
     "metadata": {},
     "output_type": "execute_result"
    }
   ],
   "source": [
    "y = x.view(-1, 8) # Torch does the rest\n",
    "y"
   ]
  },
  {
   "cell_type": "markdown",
   "id": "a6c099c4",
   "metadata": {},
   "source": [
    "## Tensors - Converting from numpy to torch"
   ]
  },
  {
   "cell_type": "code",
   "execution_count": 23,
   "id": "12b69f7a",
   "metadata": {},
   "outputs": [
    {
     "name": "stdout",
     "output_type": "stream",
     "text": [
      "<class 'torch.Tensor'>\n"
     ]
    },
    {
     "data": {
      "text/plain": [
       "tensor([1., 1., 1., 1., 1.])"
      ]
     },
     "execution_count": 23,
     "metadata": {},
     "output_type": "execute_result"
    }
   ],
   "source": [
    "a = torch.ones(5)\n",
    "print(type(a))\n",
    "a"
   ]
  },
  {
   "cell_type": "code",
   "execution_count": null,
   "id": "5109a09b",
   "metadata": {},
   "outputs": [
    {
     "name": "stdout",
     "output_type": "stream",
     "text": [
      "<class 'numpy.ndarray'>\n"
     ]
    },
    {
     "data": {
      "text/plain": [
       "array([1., 1., 1., 1., 1.], dtype=float32)"
      ]
     },
     "execution_count": 24,
     "metadata": {},
     "output_type": "execute_result"
    }
   ],
   "source": [
    "b = a.numpy()\n",
    "print(type(b))\n",
    "b\n",
    "\n",
    "# Both element a and b point to the same memory location"
   ]
  },
  {
   "cell_type": "code",
   "execution_count": 25,
   "id": "5e06a538",
   "metadata": {},
   "outputs": [
    {
     "name": "stdout",
     "output_type": "stream",
     "text": [
      "<class 'numpy.ndarray'>\n"
     ]
    },
    {
     "data": {
      "text/plain": [
       "array([1., 1., 1., 1., 1.])"
      ]
     },
     "execution_count": 25,
     "metadata": {},
     "output_type": "execute_result"
    }
   ],
   "source": [
    "a = np.ones(5)\n",
    "print(type(a))\n",
    "a"
   ]
  },
  {
   "cell_type": "code",
   "execution_count": 26,
   "id": "515f952b",
   "metadata": {},
   "outputs": [
    {
     "name": "stdout",
     "output_type": "stream",
     "text": [
      "<class 'torch.Tensor'>\n"
     ]
    },
    {
     "data": {
      "text/plain": [
       "tensor([1., 1., 1., 1., 1.], dtype=torch.float64)"
      ]
     },
     "execution_count": 26,
     "metadata": {},
     "output_type": "execute_result"
    }
   ],
   "source": [
    "b = torch.from_numpy(a)\n",
    "print(type(b))\n",
    "b"
   ]
  },
  {
   "cell_type": "code",
   "execution_count": null,
   "id": "d00b6ea7",
   "metadata": {},
   "outputs": [
    {
     "data": {
      "text/plain": [
       "tensor([1., 1., 1., 1., 1.], requires_grad=True)"
      ]
     },
     "execution_count": 29,
     "metadata": {},
     "output_type": "execute_result"
    }
   ],
   "source": [
    "# Need to calculate the gradient later for the optimization step\n",
    "x = torch.ones(5, requires_grad=True)\n",
    "x"
   ]
  },
  {
   "cell_type": "markdown",
   "id": "6d9f77c3",
   "metadata": {},
   "source": [
    "# 02-Autograd"
   ]
  }
 ],
 "metadata": {
  "kernelspec": {
   "display_name": ".env",
   "language": "python",
   "name": "python3"
  },
  "language_info": {
   "codemirror_mode": {
    "name": "ipython",
    "version": 3
   },
   "file_extension": ".py",
   "mimetype": "text/x-python",
   "name": "python",
   "nbconvert_exporter": "python",
   "pygments_lexer": "ipython3",
   "version": "3.12.2"
  }
 },
 "nbformat": 4,
 "nbformat_minor": 5
}
