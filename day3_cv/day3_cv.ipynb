{
 "cells": [
  {
   "cell_type": "markdown",
   "id": "06e39eb3",
   "metadata": {},
   "source": [
    "# Face anoninymizer project"
   ]
  },
  {
   "cell_type": "markdown",
   "id": "c9858a5a",
   "metadata": {},
   "source": [
    "Process : \n",
    "- read the image\n",
    "- detect the faces\n",
    "- blur the faces\n",
    "- save the images"
   ]
  },
  {
   "cell_type": "code",
   "execution_count": null,
   "id": "706f5787",
   "metadata": {},
   "outputs": [],
   "source": []
  }
 ],
 "metadata": {
  "language_info": {
   "name": "python"
  }
 },
 "nbformat": 4,
 "nbformat_minor": 5
}
