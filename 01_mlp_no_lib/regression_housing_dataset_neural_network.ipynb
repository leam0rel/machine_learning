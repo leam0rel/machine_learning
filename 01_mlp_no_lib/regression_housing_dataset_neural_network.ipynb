{
 "cells": [
  {
   "cell_type": "code",
   "execution_count": 24,
   "id": "fa34856e",
   "metadata": {},
   "outputs": [],
   "source": [
    "import pandas as pd\n",
    "import numpy as np\n",
    "from sklearn.datasets import fetch_california_housing\n",
    "from tsensor import explain as exp"
   ]
  },
  {
   "cell_type": "markdown",
   "id": "950fa1d9",
   "metadata": {},
   "source": [
    "## Load California Housing Dataset"
   ]
  },
  {
   "cell_type": "code",
   "execution_count": 14,
   "id": "116a3380",
   "metadata": {},
   "outputs": [
    {
     "name": "stdout",
     "output_type": "stream",
     "text": [
      "<class 'sklearn.utils._bunch.Bunch'>\n",
      "{'data': array([[   8.3252    ,   41.        ,    6.98412698, ...,    2.55555556,\n",
      "          37.88      , -122.23      ],\n",
      "       [   8.3014    ,   21.        ,    6.23813708, ...,    2.10984183,\n",
      "          37.86      , -122.22      ],\n",
      "       [   7.2574    ,   52.        ,    8.28813559, ...,    2.80225989,\n",
      "          37.85      , -122.24      ],\n",
      "       ...,\n",
      "       [   1.7       ,   17.        ,    5.20554273, ...,    2.3256351 ,\n",
      "          39.43      , -121.22      ],\n",
      "       [   1.8672    ,   18.        ,    5.32951289, ...,    2.12320917,\n",
      "          39.43      , -121.32      ],\n",
      "       [   2.3886    ,   16.        ,    5.25471698, ...,    2.61698113,\n",
      "          39.37      , -121.24      ]], shape=(20640, 8)), 'target': array([4.526, 3.585, 3.521, ..., 0.923, 0.847, 0.894], shape=(20640,)), 'frame': None, 'target_names': ['MedHouseVal'], 'feature_names': ['MedInc', 'HouseAge', 'AveRooms', 'AveBedrms', 'Population', 'AveOccup', 'Latitude', 'Longitude'], 'DESCR': '.. _california_housing_dataset:\\n\\nCalifornia Housing dataset\\n--------------------------\\n\\n**Data Set Characteristics:**\\n\\n:Number of Instances: 20640\\n\\n:Number of Attributes: 8 numeric, predictive attributes and the target\\n\\n:Attribute Information:\\n    - MedInc        median income in block group\\n    - HouseAge      median house age in block group\\n    - AveRooms      average number of rooms per household\\n    - AveBedrms     average number of bedrooms per household\\n    - Population    block group population\\n    - AveOccup      average number of household members\\n    - Latitude      block group latitude\\n    - Longitude     block group longitude\\n\\n:Missing Attribute Values: None\\n\\nThis dataset was obtained from the StatLib repository.\\nhttps://www.dcc.fc.up.pt/~ltorgo/Regression/cal_housing.html\\n\\nThe target variable is the median house value for California districts,\\nexpressed in hundreds of thousands of dollars ($100,000).\\n\\nThis dataset was derived from the 1990 U.S. census, using one row per census\\nblock group. A block group is the smallest geographical unit for which the U.S.\\nCensus Bureau publishes sample data (a block group typically has a population\\nof 600 to 3,000 people).\\n\\nA household is a group of people residing within a home. Since the average\\nnumber of rooms and bedrooms in this dataset are provided per household, these\\ncolumns may take surprisingly large values for block groups with few households\\nand many empty houses, such as vacation resorts.\\n\\nIt can be downloaded/loaded using the\\n:func:`sklearn.datasets.fetch_california_housing` function.\\n\\n.. rubric:: References\\n\\n- Pace, R. Kelley and Ronald Barry, Sparse Spatial Autoregressions,\\n  Statistics and Probability Letters, 33 (1997) 291-297\\n'}\n"
     ]
    }
   ],
   "source": [
    "data_bunch = fetch_california_housing()\n",
    "print(type(data_bunch))\n",
    "print(data_bunch)"
   ]
  },
  {
   "cell_type": "code",
   "execution_count": 15,
   "id": "d0ae397a",
   "metadata": {},
   "outputs": [
    {
     "name": "stdout",
     "output_type": "stream",
     "text": [
      "data\n",
      "target\n",
      "frame\n",
      "target_names\n",
      "feature_names\n",
      "DESCR\n"
     ]
    }
   ],
   "source": [
    "for key in data_bunch:\n",
    "    print(key)"
   ]
  },
  {
   "cell_type": "code",
   "execution_count": 16,
   "id": "fd15ca90",
   "metadata": {},
   "outputs": [
    {
     "name": "stdout",
     "output_type": "stream",
     "text": [
      "<class 'numpy.ndarray'>\n",
      "[[   8.3252       41.            6.98412698 ...    2.55555556\n",
      "    37.88       -122.23      ]\n",
      " [   8.3014       21.            6.23813708 ...    2.10984183\n",
      "    37.86       -122.22      ]\n",
      " [   7.2574       52.            8.28813559 ...    2.80225989\n",
      "    37.85       -122.24      ]\n",
      " ...\n",
      " [   1.7          17.            5.20554273 ...    2.3256351\n",
      "    39.43       -121.22      ]\n",
      " [   1.8672       18.            5.32951289 ...    2.12320917\n",
      "    39.43       -121.32      ]\n",
      " [   2.3886       16.            5.25471698 ...    2.61698113\n",
      "    39.37       -121.24      ]]\n"
     ]
    }
   ],
   "source": [
    "X = data_bunch[\"data\"]\n",
    "print(type(X))\n",
    "print(X)"
   ]
  },
  {
   "cell_type": "code",
   "execution_count": 17,
   "id": "9a9e2e00",
   "metadata": {},
   "outputs": [
    {
     "name": "stdout",
     "output_type": "stream",
     "text": [
      "<class 'numpy.ndarray'>\n",
      "[4.526 3.585 3.521 ... 0.923 0.847 0.894]\n"
     ]
    }
   ],
   "source": [
    "y = data_bunch[\"target\"]\n",
    "print(type(y))\n",
    "print(y)"
   ]
  },
  {
   "cell_type": "code",
   "execution_count": 18,
   "id": "c138493a",
   "metadata": {},
   "outputs": [
    {
     "name": "stdout",
     "output_type": "stream",
     "text": [
      "20640 8\n"
     ]
    }
   ],
   "source": [
    "n, m = X.shape\n",
    "print(n, m)"
   ]
  },
  {
   "cell_type": "code",
   "execution_count": 19,
   "id": "3c415a93",
   "metadata": {},
   "outputs": [
    {
     "data": {
      "text/plain": [
       "array([   8.3252    ,   41.        ,    6.98412698,    1.02380952,\n",
       "        322.        ,    2.55555556,   37.88      , -122.23      ])"
      ]
     },
     "execution_count": 19,
     "metadata": {},
     "output_type": "execute_result"
    }
   ],
   "source": [
    "X[0]"
   ]
  },
  {
   "cell_type": "code",
   "execution_count": 20,
   "id": "e289cb51",
   "metadata": {},
   "outputs": [
    {
     "data": {
      "text/plain": [
       "np.float64(4.526)"
      ]
     },
     "execution_count": 20,
     "metadata": {},
     "output_type": "execute_result"
    }
   ],
   "source": [
    "y[0]"
   ]
  },
  {
   "cell_type": "markdown",
   "id": "44113ebe",
   "metadata": {},
   "source": [
    "## Transform the dataset"
   ]
  },
  {
   "cell_type": "code",
   "execution_count": null,
   "id": "87b7f429",
   "metadata": {},
   "outputs": [
    {
     "name": "stdout",
     "output_type": "stream",
     "text": [
      "(8, 3000)\n",
      "(3000,)\n"
     ]
    }
   ],
   "source": [
    "# We have to separate X into X train and X test for training and validatio purposes\n",
    "# We take the transpose for X, as we want the features to be the lines to be able to do matrices product\n",
    "X_test = X[:3000].T\n",
    "y_test = y[:3000].T # TODO : Not super sure for y here\n",
    "\n",
    "print(X_test.shape)\n",
    "print(y_test.shape)"
   ]
  },
  {
   "cell_type": "code",
   "execution_count": 22,
   "id": "728da338",
   "metadata": {},
   "outputs": [
    {
     "name": "stdout",
     "output_type": "stream",
     "text": [
      "(8, 17640)\n",
      "(17640,)\n"
     ]
    }
   ],
   "source": [
    "X_train = X[3000:].T\n",
    "y_train = y[3000:].T\n",
    "\n",
    "print(X_train.shape)\n",
    "print(y_train.shape)"
   ]
  },
  {
   "cell_type": "markdown",
   "id": "3981c6c9",
   "metadata": {},
   "source": [
    "For this exercice, we will use a Neural Network with 1 hidden layer, and 10 neurons in this hidden layer. It should look like : "
   ]
  },
  {
   "cell_type": "markdown",
   "id": "30c2fac4",
   "metadata": {},
   "source": [
    "## Definition of the functions we will use"
   ]
  },
  {
   "cell_type": "code",
   "execution_count": 35,
   "id": "6a3f530b",
   "metadata": {},
   "outputs": [],
   "source": [
    "# Definition of activation functions - Rectified Linear Unit\n",
    "def ReLU(x):\n",
    "    return np.maximum(0, x)\n",
    "\n",
    "def ReLU_prime(x):\n",
    "    return x > 0"
   ]
  },
  {
   "cell_type": "code",
   "execution_count": 42,
   "id": "1a03dc51",
   "metadata": {},
   "outputs": [],
   "source": [
    "def init_weights():\n",
    "    Wh = np.random.randn(10, 8) # Needs to be of dimension (10 x 8)\n",
    "    bh = np.random.randn(10, 1) # Needs to be of dimension (10 x 1)\n",
    "    Wo = np.random.randn(1, 10) # Needs to be of dimension (1 x 10)\n",
    "    bo = np.random.randn(1, 1) # Needs to be of dimension (1 x 1)\n",
    "    return Wh, bh, Wo, bo"
   ]
  },
  {
   "cell_type": "code",
   "execution_count": null,
   "id": "845cc1bc",
   "metadata": {},
   "outputs": [],
   "source": [
    "def gradient_descent(X, y, Wh, bh, Wo, bo, lr):\n",
    "    # Forward pass\n",
    "    hidden_layer = Wh.dot(X) + bh\n",
    "    print(hidden_layer.shape)\n",
    "    hidden_layer_activated = ReLU(hidden_layer)\n",
    "    print(hidden_layer_activated.shape)\n",
    "    output_layer = Wo.dot(hidden_layer_activated)   #problem here with the product : solved, i just did shit TODO : fix the cooments :(\n",
    "    print(output_layer.shape)\n",
    "    output_layer_activated = ReLU(output_layer)\n",
    "    y_hat = output_layer_activated\n",
    "    \n",
    "    # Backward propagation\n",
    "    error = y_hat - y\n",
    "    print(error) # It works til here. Now, the hard pass !\n",
    "    # The intution here is that we have a Loss function : Loss = 1/m * DiscretSum(i=1...m)(y_hat - y)**2\n",
    "    # We want to minimize it. For simplicity reason, I'll write it that way : Loss = 1/m * DiscretSum(i=1...m)(Error)**2\n",
    "    # For that, we need to find of how much Wh, Wo, bh, bo contributed to the Error -> partial derivative enters the chat\n",
    "    # I'll do the rest later\n",
    "    \n",
    "    dWh = 0\n",
    "    dbh = 0\n",
    "    dWo = 0\n",
    "    dbo = 0\n",
    "    \n",
    "    \n",
    "    # Update the weights \n",
    "    Wh -= dWh*lr\n",
    "    bh -= dbh*lr\n",
    "    Wo -= dWo*lr\n",
    "    bo -= dbo*lr\n",
    "    \n",
    "    \n",
    "    "
   ]
  },
  {
   "cell_type": "code",
   "execution_count": 46,
   "id": "bbb90911",
   "metadata": {},
   "outputs": [
    {
     "name": "stdout",
     "output_type": "stream",
     "text": [
      "(10, 8)\n",
      "(10, 1)\n",
      "(1, 10)\n",
      "(1, 1)\n"
     ]
    }
   ],
   "source": [
    "Wh, bh, Wo, bo = init_weights()\n",
    "print(Wh.shape)\n",
    "print(bh.shape)\n",
    "print(Wo.shape)\n",
    "print(bo.shape)"
   ]
  },
  {
   "cell_type": "code",
   "execution_count": 51,
   "id": "fe824f6f",
   "metadata": {},
   "outputs": [
    {
     "name": "stdout",
     "output_type": "stream",
     "text": [
      "(10, 17640)\n",
      "(10, 17640)\n",
      "(1, 17640)\n",
      "[[ 159.5523099  2352.71336528 1371.25935009 ...  469.02251266\n",
      "   329.36555693  667.49815767]]\n"
     ]
    }
   ],
   "source": [
    "gradient_descent(X_train, y_train, Wh, bh, Wo, bo)"
   ]
  },
  {
   "cell_type": "code",
   "execution_count": null,
   "id": "6c962184",
   "metadata": {},
   "outputs": [],
   "source": []
  },
  {
   "cell_type": "code",
   "execution_count": null,
   "id": "bfdf48a8",
   "metadata": {},
   "outputs": [],
   "source": []
  },
  {
   "cell_type": "code",
   "execution_count": null,
   "id": "ca59b8f2",
   "metadata": {},
   "outputs": [],
   "source": []
  }
 ],
 "metadata": {
  "kernelspec": {
   "display_name": ".env",
   "language": "python",
   "name": "python3"
  },
  "language_info": {
   "codemirror_mode": {
    "name": "ipython",
    "version": 3
   },
   "file_extension": ".py",
   "mimetype": "text/x-python",
   "name": "python",
   "nbconvert_exporter": "python",
   "pygments_lexer": "ipython3",
   "version": "3.12.2"
  }
 },
 "nbformat": 4,
 "nbformat_minor": 5
}
